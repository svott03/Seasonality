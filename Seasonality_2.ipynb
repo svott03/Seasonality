{
  "cells": [
    {
      "cell_type": "code",
      "execution_count": null,
      "metadata": {
        "colab": {
          "base_uri": "https://localhost:8080/",
          "height": 107
        },
        "id": "3o8c0b5-Z3vl",
        "outputId": "5b2ef0e2-278b-4e69-dc70-43fb89f88b49"
      },
      "outputs": [],
      "source": [
        "from google.colab import files\n",
        "import pandas as pd\n",
        "import io\n",
        "\n",
        "uploaded = files.upload()"
      ]
    },
    {
      "cell_type": "code",
      "execution_count": null,
      "metadata": {
        "colab": {
          "base_uri": "https://localhost:8080/",
          "height": 206
        },
        "id": "lcBRGJ7MZ_KP",
        "outputId": "ded350cc-3658-4264-af42-8fcdcda16c75"
      },
      "outputs": [],
      "source": [
        "import matplotlib.pyplot as plt\n",
        "\n",
        "metadata = pd.read_csv(io.BytesIO(uploaded['metadata_1.11.23.csv']))\n",
        "time_series = pd.read_csv(io.BytesIO(uploaded['time_series_AB 20230111.csv']))\n",
        "time_series = time_series.loc[time_series['Inventory Status'] != 'OOS or Low Inventory']\n",
        "time_data = time_series[[\"week_start\", \"unit_sold\", \"asin\",\"sales\"]]\n",
        "time_data.head()"
      ]
    },
    {
      "cell_type": "code",
      "execution_count": null,
      "metadata": {
        "colab": {
          "base_uri": "https://localhost:8080/",
          "height": 206
        },
        "id": "6ESingW7aDao",
        "outputId": "212c51e0-3805-4bb1-bcfe-d1a4ee28ccb9"
      },
      "outputs": [],
      "source": [
        "# ID and Year Enumeration\n",
        "asin_list = time_series['asin'].tolist()\n",
        "unique_ids = [*set(asin_list)]\n",
        "year_enum = {0: \"2014\", 1: '2015', 2: '2016', 3: '2017', 4: '2018', 5: '2019', 6: '2020', 7: '2021', 8: '2022', 9: '2023'}\n",
        "year_enumR = dict(zip(year_enum.values(), year_enum.keys()))\n",
        "\n",
        "year_list = []\n",
        "\n",
        "for elem in time_data['week_start']:\n",
        "  s = elem[-4:]\n",
        "  year_list.append(year_enumR[s])\n",
        "\n",
        "time_data = time_data.assign(year_index=year_list)\n",
        "time_data.head()"
      ]
    },
    {
      "cell_type": "code",
      "execution_count": null,
      "metadata": {
        "id": "Ph8vRqNwtDik"
      },
      "outputs": [],
      "source": [
        "# Drop 2023 data as that will skew our percentages\n",
        "time_data = time_data.loc[time_data['year_index'] != 9]"
      ]
    },
    {
      "cell_type": "code",
      "execution_count": null,
      "metadata": {
        "colab": {
          "base_uri": "https://localhost:8080/"
        },
        "id": "2BpnXxLDaLg5",
        "outputId": "628cad3f-4d4c-4ff0-ddc7-85b744a0549b"
      },
      "outputs": [],
      "source": [
        "# For each year, grab the max sale and units sold value for product\n",
        "# Id -> (year -> max_price)\n",
        "max_prices = dict(dict())\n",
        "\n",
        "for id in unique_ids:\n",
        "  data = time_data.loc[time_data['asin'] == id]\n",
        "  year_prices = dict()\n",
        "  z = 0\n",
        "  for i, elem in data.iterrows():\n",
        "    # Grab year\n",
        "    year = elem['week_start'][-4:]\n",
        "    if (not year_prices or year not in year_prices):\n",
        "      year_prices[year] = elem['sales']\n",
        "    else:\n",
        "      year_prices[year] += elem['sales']\n",
        "  max_prices[id] = year_prices\n",
        "\n",
        "print(max_prices['B07NW4Y5BW'])"
      ]
    },
    {
      "cell_type": "code",
      "execution_count": null,
      "metadata": {
        "colab": {
          "base_uri": "https://localhost:8080/",
          "height": 206
        },
        "id": "YG_kPmh1aRkZ",
        "outputId": "c78e197d-b9a4-4109-cc5a-07bc7decdad8"
      },
      "outputs": [],
      "source": [
        "# Add percentage column\n",
        "percent_list = []\n",
        "for i, elem in time_data.iterrows():\n",
        "  s = elem['sales']\n",
        "  if (s == 0):\n",
        "    cur_percent = 0\n",
        "  else:\n",
        "    cur_percent = s / max_prices[elem['asin']][elem['week_start'][-4:]]\n",
        "  percent_list.append(cur_percent)\n",
        "\n",
        "df2 = time_data.assign(year_percent=percent_list)\n",
        "df2.head()"
      ]
    },
    {
      "cell_type": "code",
      "execution_count": null,
      "metadata": {
        "colab": {
          "base_uri": "https://localhost:8080/"
        },
        "id": "_NK79TljaTja",
        "outputId": "5459a042-15ce-4fa1-b17f-298422e36a1b"
      },
      "outputs": [],
      "source": [
        "# strip years\n",
        "df2['week_start'] = df2['week_start'].str[:-5]\n",
        "df2['week_start'].head()"
      ]
    },
    {
      "cell_type": "code",
      "execution_count": null,
      "metadata": {
        "colab": {
          "base_uri": "https://localhost:8080/",
          "height": 238
        },
        "id": "L6imSl-Baa9Y",
        "outputId": "46f7830e-f30f-4dca-ef68-f50362f3a079"
      },
      "outputs": [],
      "source": [
        "# Create data_avg dataframe\n",
        "data_avg = []\n",
        "\n",
        "df2.groupby(['week_start']).mean()\n",
        "for id in unique_ids:\n",
        "  data = df2.loc[df2['asin'] == id]\n",
        "  #define index column\n",
        "  data.set_index('week_start', inplace=True)\n",
        "  cur_avg = data.groupby(['week_start']).mean()\n",
        "  # cur_avg.plot(legend=True, subplots=True)\n",
        "  cur_avg['asin'] = id\n",
        "  if (len(cur_avg) != 0):\n",
        "    data_avg.append(cur_avg)\n",
        "\n",
        "# print(max_prices['B081YJPP7Y'])\n",
        "# print(data_avg)\n",
        "data_avg[0].head()"
      ]
    },
    {
      "cell_type": "code",
      "execution_count": null,
      "metadata": {
        "id": "soa8HQcUVkrB"
      },
      "outputs": [],
      "source": [
        "# ReIndex and Convert to Date\n",
        "len(data_avg)\n",
        "for i, elem in enumerate(data_avg):\n",
        "  elem = elem.add_suffix('_avg').reset_index()\n",
        "  elem['week_start'] = elem['week_start'].astype(str) + '/2020'\n",
        "  elem['week_start'] = pd.to_datetime(elem['week_start'])\n",
        "  elem = elem.sort_values('week_start')\n",
        "  elem.set_index('week_start',inplace=True)\n",
        "  data_avg[i] = elem\n"
      ]
    },
    {
      "cell_type": "code",
      "execution_count": null,
      "metadata": {
        "colab": {
          "base_uri": "https://localhost:8080/",
          "height": 499
        },
        "id": "Lv6uVoFUWGKc",
        "outputId": "cf521187-858e-479a-87f2-ba277008d4fc"
      },
      "outputs": [],
      "source": [
        "# Use product 11 for decorative spike\n",
        "\n",
        "cur = data_avg[11]\n",
        "cur.plot(legend=True,subplots=True)\n",
        "cur.head()"
      ]
    },
    {
      "cell_type": "code",
      "execution_count": null,
      "metadata": {
        "colab": {
          "base_uri": "https://localhost:8080/"
        },
        "id": "UJyKovSmcCNU",
        "outputId": "18537f62-36a4-4050-9f66-9c2ea3eae084"
      },
      "outputs": [],
      "source": [
        "# cur = cur.reset_index()\n",
        "print(cur.info())\n",
        "# cur.head() "
      ]
    },
    {
      "cell_type": "code",
      "execution_count": null,
      "metadata": {
        "colab": {
          "base_uri": "https://localhost:8080/",
          "height": 295
        },
        "id": "6OCLBwDi_NW-",
        "outputId": "a46e964a-3cd9-41a7-8833-5ff7e0533e3e"
      },
      "outputs": [],
      "source": [
        "from scipy.signal import find_peaks, peak_widths\n",
        "\n",
        "plotable = cur['year_percent_avg']\n",
        "plotable.plot(x='week_start')\n",
        "avg = plotable.mean()\n",
        "median = plotable.median()\n",
        "plt.axhline(y = avg, color = 'r', label = 'mean')\n",
        "plt.axhline(y = median, color = 'g', label = 'median')\n",
        "plt.show()\n",
        "avg"
      ]
    },
    {
      "cell_type": "code",
      "execution_count": null,
      "metadata": {
        "colab": {
          "base_uri": "https://localhost:8080/",
          "height": 278
        },
        "id": "QiHh2CnEdbJo",
        "outputId": "021fa71b-3033-4123-9b68-12e02c506c1f"
      },
      "outputs": [],
      "source": [
        "\n",
        "plotable = cur['Seasonality']\n",
        "plotable.plot(x='week_start')\n",
        "avg = 1\n",
        "plt.axhline(y = avg, color = 'r', label = 'mean')\n",
        "plt.axhline(y = 1.25, color = 'g', label = '1.5')\n",
        "plt.show()"
      ]
    },
    {
      "cell_type": "code",
      "execution_count": null,
      "metadata": {
        "colab": {
          "background_save": true
        },
        "id": "Kr7eWGtFn8mr"
      },
      "outputs": [],
      "source": [
        "# Visualization\n",
        "# first_product = time_data.loc[time_data['asin'] == 'B01LXOVLEQ']\n",
        "\n",
        "# for i in range(3,10):\n",
        "#   # print(first_product['year_index'])\n",
        "#   year_data = first_product.loc[first_product['year_index'] == i]\n",
        "#   print(year_enum[i])\n",
        "#   # print(year_data)\n",
        "#   x = year_data['week_start'].to_numpy()\n",
        "#   y = year_data['unit_sold'].to_numpy()\n",
        "#   plt.plot(x,y)\n",
        "#   plt.show()\n",
        "#   plt.clf()\n",
        "# first_product.head()"
      ]
    },
    {
      "cell_type": "code",
      "execution_count": null,
      "metadata": {
        "id": "h6Vs7r-L-TCY"
      },
      "outputs": [],
      "source": [
        "# Obtain distribution of good data points\n",
        "\n",
        "distribution = [0] * len(unique_ids)\n",
        "for i, id in enumerate(unique_ids):\n",
        "  cur_data = time_data.loc[time_data['asin'] == id]\n",
        "  distribution[i] = len(cur_data)\n",
        "\n",
        "distribution"
      ]
    },
    {
      "cell_type": "code",
      "execution_count": null,
      "metadata": {
        "colab": {
          "base_uri": "https://localhost:8080/",
          "height": 352
        },
        "id": "pp59cpJIjfAV",
        "outputId": "d43e0a38-0d54-4713-ab9d-9758fa549a93"
      },
      "outputs": [],
      "source": [
        "# Plot distribution\n",
        "import numpy as np\n",
        "\n",
        "counts, bins = np.histogram(distribution)\n",
        "plt.hist(bins[:-1], bins, weights=counts)"
      ]
    },
    {
      "cell_type": "code",
      "execution_count": null,
      "metadata": {
        "id": "Wsqco7BUKB3m"
      },
      "outputs": [],
      "source": [
        "# Confidence Score\n",
        "\n",
        "# We set 150 as the number of datapoints required to be \"confident\"\n",
        "\n",
        "# We then assign a confidence score c in (0,1) where c = min(data_points/150,1)\n",
        "\n",
        "for i, product in enumerate(data_avg):\n",
        "  id = product['asin_avg'].values[0]\n",
        "  data_points = len(time_data.loc[time_data['asin'] == id])\n",
        "  product['Confidence'] = min(1, data_points/150)\n",
        "  data_avg[i] = product"
      ]
    },
    {
      "cell_type": "code",
      "execution_count": null,
      "metadata": {
        "id": "oKoGqRWBUDHH"
      },
      "outputs": [],
      "source": [
        "# Seasonality Index\n",
        "\n",
        "# 1 => Median, 0 => Lowest below Median, 2 => Highest Above Median\n",
        "\n",
        "# Anything above 1.25 is considered in season\n",
        "\n",
        "for i, product in enumerate(data_avg):\n",
        "  cur = product['year_percent_avg']\n",
        "  median = cur.median()\n",
        "  least = cur.min()\n",
        "  most = cur.max()\n",
        "  largest_difference = max(abs(median-least), abs(median - most))\n",
        "  product['Seasonality'] = product['year_percent_avg'].apply(lambda x: (x-median)/largest_difference + 1)\n",
        "  data_avg[i] = product"
      ]
    },
    {
      "cell_type": "code",
      "execution_count": null,
      "metadata": {
        "id": "P-56-wGV8bvn"
      },
      "outputs": [],
      "source": [
        "# Weekly Indexing\n",
        "\n",
        "# We adjust dates to start of the week\n",
        "\n",
        "for i, product in enumerate(data_avg):\n",
        "  temp = product.reset_index()\n",
        "  temp['Week'] = temp['week_start'].dt.week\n",
        "  temp.set_index('Week', inplace=True)\n",
        "  data_avg[i] = temp\n",
        "\n",
        "data_avg[0]"
      ]
    },
    {
      "cell_type": "code",
      "execution_count": null,
      "metadata": {
        "colab": {
          "base_uri": "https://localhost:8080/",
          "height": 503
        },
        "id": "nzUy0bSX-FEi",
        "outputId": "e35108d9-7f48-480c-aa18-4961395b723c"
      },
      "outputs": [],
      "source": [
        "cur = data_avg[11]\n",
        "cur.plot(legend=True,subplots=True)\n",
        "cur.head()"
      ]
    }
  ],
  "metadata": {
    "colab": {
      "provenance": []
    },
    "kernelspec": {
      "display_name": "Python 3",
      "name": "python3"
    },
    "language_info": {
      "name": "python"
    }
  },
  "nbformat": 4,
  "nbformat_minor": 0
}
